{
  "nbformat": 4,
  "nbformat_minor": 0,
  "metadata": {
    "colab": {
      "provenance": []
    },
    "kernelspec": {
      "name": "python3",
      "display_name": "Python 3"
    },
    "language_info": {
      "name": "python"
    },
    "accelerator": "GPU",
    "gpuClass": "standard"
  },
  "cells": [
    {
      "cell_type": "code",
      "execution_count": 1,
      "metadata": {
        "id": "Qo5RSUMEspZ2"
      },
      "outputs": [],
      "source": [
        "import numpy as np\n",
        "from sklearn.model_selection import train_test_split\n",
        "import tensorflow.keras as keras\n",
        "import matplotlib.pyplot as plt\n",
        "import json\n",
        "from sklearn.metrics import classification_report,confusion_matrix\n",
        "from sklearn.metrics import multilabel_confusion_matrix\n",
        "from sklearn.metrics import accuracy_score, mean_squared_error as mse\n",
        "from tensorflow.keras.models import Sequential\n",
        "from tensorflow.keras.layers import Conv2D, MaxPool2D, Flatten, Dense, BatchNormalization, Dropout\n",
        "from tensorflow.keras.callbacks import EarlyStopping\n",
        "from collections import Counter\n",
        "from tensorflow.keras.models import load_model"
      ]
    },
    {
      "cell_type": "code",
      "source": [
        "from google.colab import drive\n",
        "drive.mount(\"/content/gdrive\")"
      ],
      "metadata": {
        "colab": {
          "base_uri": "https://localhost:8080/"
        },
        "id": "GjajJWOTs7c5",
        "outputId": "7b15a8cb-3f02-4643-b896-658dc1220b7e"
      },
      "execution_count": 2,
      "outputs": [
        {
          "output_type": "stream",
          "name": "stdout",
          "text": [
            "Mounted at /content/gdrive\n"
          ]
        }
      ]
    },
    {
      "cell_type": "code",
      "source": [
        "data =  np.load('/content/gdrive/My Drive/Bird Species Classifier/Train2.npz')\n",
        "data = data['arr_0']"
      ],
      "metadata": {
        "id": "rElwl8was_Gj"
      },
      "execution_count": 3,
      "outputs": []
    },
    {
      "cell_type": "code",
      "source": [
        "labels =  np.load('/content/gdrive/My Drive/Bird Species Classifier/Train_label2.npz')\n",
        "labels = labels['arr_0']"
      ],
      "metadata": {
        "id": "2Ath4BaEticN"
      },
      "execution_count": 4,
      "outputs": []
    },
    {
      "cell_type": "code",
      "source": [
        "X_train, X_test, y_train, y_test = train_test_split(data, labels, test_size=.2, random_state=0, stratify=labels)"
      ],
      "metadata": {
        "id": "RCVPSV2xtj-9"
      },
      "execution_count": 5,
      "outputs": []
    },
    {
      "cell_type": "code",
      "source": [
        "X_train.shape"
      ],
      "metadata": {
        "colab": {
          "base_uri": "https://localhost:8080/"
        },
        "id": "5VDGv6WLtqwZ",
        "outputId": "9d1410bb-9eba-4388-ba1a-f4cad55a2701"
      },
      "execution_count": 6,
      "outputs": [
        {
          "output_type": "execute_result",
          "data": {
            "text/plain": [
              "(3108, 13, 517, 1)"
            ]
          },
          "metadata": {},
          "execution_count": 6
        }
      ]
    },
    {
      "cell_type": "code",
      "source": [
        "X_test.shape"
      ],
      "metadata": {
        "colab": {
          "base_uri": "https://localhost:8080/"
        },
        "id": "vNQP0s0ftr-V",
        "outputId": "7db6f842-cb41-4ebf-daf8-634e35065118"
      },
      "execution_count": 7,
      "outputs": [
        {
          "output_type": "execute_result",
          "data": {
            "text/plain": [
              "(777, 13, 517, 1)"
            ]
          },
          "metadata": {},
          "execution_count": 7
        }
      ]
    },
    {
      "cell_type": "code",
      "source": [
        "y_train.shape"
      ],
      "metadata": {
        "colab": {
          "base_uri": "https://localhost:8080/"
        },
        "id": "vKuh988uts_B",
        "outputId": "197dd868-4a4b-46f0-cde1-ac2e4eb1fe4e"
      },
      "execution_count": 8,
      "outputs": [
        {
          "output_type": "execute_result",
          "data": {
            "text/plain": [
              "(3108, 5)"
            ]
          },
          "metadata": {},
          "execution_count": 8
        }
      ]
    },
    {
      "cell_type": "code",
      "source": [
        "y_test.shape"
      ],
      "metadata": {
        "colab": {
          "base_uri": "https://localhost:8080/"
        },
        "id": "Pa28Yg4JtuGu",
        "outputId": "924b4d85-afcc-4510-997f-2cbcb345737c"
      },
      "execution_count": 9,
      "outputs": [
        {
          "output_type": "execute_result",
          "data": {
            "text/plain": [
              "(777, 5)"
            ]
          },
          "metadata": {},
          "execution_count": 9
        }
      ]
    },
    {
      "cell_type": "code",
      "source": [
        "def build_model1(input_shape):\n",
        "  \n",
        "  model = Sequential()\n",
        "\n",
        "  model.add(Conv2D(32, kernel_size=5,input_shape=input_shape, activation = 'relu',padding=\"same\"))\n",
        "  model.add(Conv2D(32, kernel_size=5, activation = 'relu',padding=\"same\"))\n",
        "  \n",
        "  model.add(MaxPool2D(2,2, padding=\"same\"))\n",
        "  model.add(BatchNormalization())\n",
        "\n",
        "  model.add(Conv2D(64, kernel_size=3,activation = 'relu',padding=\"same\"))\n",
        "  model.add(Conv2D(64, kernel_size=3,activation = 'relu',padding=\"same\"))\n",
        "  model.add(MaxPool2D(2,2,padding=\"same\"))\n",
        "  model.add(BatchNormalization())\n",
        "\n",
        "  model.add(Flatten())\n",
        "  model.add(Dense(64, activation = \"relu\"))\n",
        "  model.add(Dense(5, activation = \"softmax\"))\n",
        "\n",
        "  return model"
      ],
      "metadata": {
        "id": "dqzHGomYtvgM"
      },
      "execution_count": 10,
      "outputs": []
    },
    {
      "cell_type": "code",
      "source": [
        "input_shape = (13,517,1)"
      ],
      "metadata": {
        "id": "C-Nbg0oSuCyK"
      },
      "execution_count": 11,
      "outputs": []
    },
    {
      "cell_type": "code",
      "source": [
        "model = build_model1(input_shape)\n",
        "\n",
        "early_stopping = EarlyStopping(monitor='val_loss', patience=3, min_delta = 0.1, verbose = 1)\n",
        "\n",
        "optimiser = keras.optimizers.Adam(learning_rate=0.0001)\n",
        "model.compile(optimizer=optimiser,\n",
        "              loss='categorical_crossentropy',\n",
        "              metrics=['accuracy'])\n",
        "\n",
        "model.summary()"
      ],
      "metadata": {
        "colab": {
          "base_uri": "https://localhost:8080/"
        },
        "id": "bGC_xHvDuEkt",
        "outputId": "71aa4bd9-ed97-4256-f1e7-e6fd8e4c6f0a"
      },
      "execution_count": 14,
      "outputs": [
        {
          "output_type": "stream",
          "name": "stdout",
          "text": [
            "Model: \"sequential_1\"\n",
            "_________________________________________________________________\n",
            " Layer (type)                Output Shape              Param #   \n",
            "=================================================================\n",
            " conv2d_4 (Conv2D)           (None, 13, 517, 32)       832       \n",
            "                                                                 \n",
            " conv2d_5 (Conv2D)           (None, 13, 517, 32)       25632     \n",
            "                                                                 \n",
            " max_pooling2d_2 (MaxPooling  (None, 7, 259, 32)       0         \n",
            " 2D)                                                             \n",
            "                                                                 \n",
            " batch_normalization_2 (Batc  (None, 7, 259, 32)       128       \n",
            " hNormalization)                                                 \n",
            "                                                                 \n",
            " conv2d_6 (Conv2D)           (None, 7, 259, 64)        18496     \n",
            "                                                                 \n",
            " conv2d_7 (Conv2D)           (None, 7, 259, 64)        36928     \n",
            "                                                                 \n",
            " max_pooling2d_3 (MaxPooling  (None, 4, 130, 64)       0         \n",
            " 2D)                                                             \n",
            "                                                                 \n",
            " batch_normalization_3 (Batc  (None, 4, 130, 64)       256       \n",
            " hNormalization)                                                 \n",
            "                                                                 \n",
            " flatten_1 (Flatten)         (None, 33280)             0         \n",
            "                                                                 \n",
            " dense_2 (Dense)             (None, 64)                2129984   \n",
            "                                                                 \n",
            " dense_3 (Dense)             (None, 5)                 325       \n",
            "                                                                 \n",
            "=================================================================\n",
            "Total params: 2,212,581\n",
            "Trainable params: 2,212,389\n",
            "Non-trainable params: 192\n",
            "_________________________________________________________________\n"
          ]
        }
      ]
    },
    {
      "cell_type": "code",
      "source": [
        "history = model.fit(X_train, y_train, validation_data=(X_test, y_test), batch_size=16, epochs=8)"
      ],
      "metadata": {
        "colab": {
          "base_uri": "https://localhost:8080/"
        },
        "id": "UFVGCRYJuGih",
        "outputId": "b79f0ce9-f818-49d5-ee47-84f6c1b3cc93"
      },
      "execution_count": 15,
      "outputs": [
        {
          "output_type": "stream",
          "name": "stdout",
          "text": [
            "Epoch 1/8\n",
            "195/195 [==============================] - 5s 18ms/step - loss: 1.2262 - accuracy: 0.5238 - val_loss: 1.1179 - val_accuracy: 0.6152\n",
            "Epoch 2/8\n",
            "195/195 [==============================] - 3s 15ms/step - loss: 0.8316 - accuracy: 0.6821 - val_loss: 0.9037 - val_accuracy: 0.6744\n",
            "Epoch 3/8\n",
            "195/195 [==============================] - 3s 15ms/step - loss: 0.6214 - accuracy: 0.7735 - val_loss: 0.7398 - val_accuracy: 0.7297\n",
            "Epoch 4/8\n",
            "195/195 [==============================] - 3s 15ms/step - loss: 0.4630 - accuracy: 0.8414 - val_loss: 0.6940 - val_accuracy: 0.7439\n",
            "Epoch 5/8\n",
            "195/195 [==============================] - 3s 15ms/step - loss: 0.3291 - accuracy: 0.8893 - val_loss: 0.6400 - val_accuracy: 0.7658\n",
            "Epoch 6/8\n",
            "195/195 [==============================] - 3s 15ms/step - loss: 0.2159 - accuracy: 0.9373 - val_loss: 0.6311 - val_accuracy: 0.7812\n",
            "Epoch 7/8\n",
            "195/195 [==============================] - 3s 15ms/step - loss: 0.1224 - accuracy: 0.9717 - val_loss: 0.5947 - val_accuracy: 0.7748\n",
            "Epoch 8/8\n",
            "195/195 [==============================] - 3s 15ms/step - loss: 0.0670 - accuracy: 0.9900 - val_loss: 0.6087 - val_accuracy: 0.7889\n"
          ]
        }
      ]
    },
    {
      "cell_type": "code",
      "source": [
        "model.save('/content/gdrive/My Drive/Bird Species Classifier/BirdClassifier.h5')"
      ],
      "metadata": {
        "id": "LI0dIRNuG2zA"
      },
      "execution_count": null,
      "outputs": []
    },
    {
      "cell_type": "code",
      "source": [
        "model = load_model('/content/gdrive/My Drive/Bird Species Classifier/BirdClassifier.h5')"
      ],
      "metadata": {
        "id": "kQAn0X8EG_t6"
      },
      "execution_count": null,
      "outputs": []
    },
    {
      "cell_type": "code",
      "source": [
        "def plot_history(history):\n",
        "    fig, axs = plt.subplots(2)\n",
        "    axs[0].plot(history.history[\"accuracy\"], label=\"train accuracy\")\n",
        "    axs[0].plot(history.history[\"val_accuracy\"], label=\"test accuracy\")\n",
        "    axs[0].set_ylabel(\"Accuracy\")\n",
        "    axs[0].legend(loc=\"lower right\")\n",
        "    axs[0].set_title(\"Accuracy eval\")\n",
        "\n",
        "    axs[1].plot(history.history[\"loss\"], label=\"train error\")\n",
        "    axs[1].plot(history.history[\"val_loss\"], label=\"test error\")\n",
        "    axs[1].set_ylabel(\"Error\")\n",
        "    axs[1].set_xlabel(\"Epoch\")\n",
        "    axs[1].legend(loc=\"upper right\")\n",
        "    axs[1].set_title(\"Error eval\")\n",
        "\n",
        "    plt.show()"
      ],
      "metadata": {
        "id": "iA56U_zLuRT7"
      },
      "execution_count": null,
      "outputs": []
    },
    {
      "cell_type": "code",
      "source": [
        "plot_history(history)"
      ],
      "metadata": {
        "colab": {
          "base_uri": "https://localhost:8080/",
          "height": 295
        },
        "id": "kT6bMeT3A3OL",
        "outputId": "be48dd83-f9d9-4e65-e876-0eab7ab8c05f"
      },
      "execution_count": null,
      "outputs": [
        {
          "output_type": "display_data",
          "data": {
            "text/plain": [
              "<Figure size 432x288 with 2 Axes>"
            ],
            "image/png": "[encoded data removed]"
          },
          "metadata": {
            "needs_background": "light"
          }
        }
      ]
    },
    {
      "cell_type": "code",
      "source": [
        "test_error,test_accuracy=model.evaluate(X_test,y_test,verbose=2)\n",
        "print(\"Accuracy on original test set is:{}\".format(test_accuracy))\n",
        "\n",
        "pred = np.argmax(model.predict(X_test), axis=-1)"
      ],
      "metadata": {
        "colab": {
          "base_uri": "https://localhost:8080/"
        },
        "id": "MzXdsVk1wpC_",
        "outputId": "a92bb7ad-6d15-4580-d10e-5c352a2893b8"
      },
      "execution_count": null,
      "outputs": [
        {
          "output_type": "stream",
          "name": "stdout",
          "text": [
            "25/25 - 0s - loss: 0.5945 - accuracy: 0.7954 - 392ms/epoch - 16ms/step\n",
            "Accuracy on original test set is:0.7953668236732483\n",
            "25/25 [==============================] - 0s 7ms/step\n"
          ]
        }
      ]
    },
    {
      "cell_type": "code",
      "source": [
        "rounded_labels=np.argmax(y_test, axis=1)"
      ],
      "metadata": {
        "id": "iMaOAM_xGIP7"
      },
      "execution_count": null,
      "outputs": []
    },
    {
      "cell_type": "code",
      "source": [
        "print(confusion_matrix(rounded_labels, pred))"
      ],
      "metadata": {
        "colab": {
          "base_uri": "https://localhost:8080/"
        },
        "id": "8Zm-L2cLwrJi",
        "outputId": "1b6a054a-7a31-429a-b07b-3c81e4d163d6"
      },
      "execution_count": null,
      "outputs": [
        {
          "output_type": "stream",
          "name": "stdout",
          "text": [
            "[[ 87  10   3  16   9]\n",
            " [  5  87   8   9   6]\n",
            " [  6   1 185   8   4]\n",
            " [ 11  10  20  96  11]\n",
            " [  4   4   8   7 162]]\n"
          ]
        }
      ]
    },
    {
      "cell_type": "code",
      "source": [
        "model1={}\n",
        "model1=classification_report(rounded_labels, pred,output_dict='true')\n",
        "print(classification_report(rounded_labels, pred))"
      ],
      "metadata": {
        "colab": {
          "base_uri": "https://localhost:8080/"
        },
        "id": "YMNIf_rIwt21",
        "outputId": "699dfd82-8e48-4995-ee43-d27b7e410b58"
      },
      "execution_count": null,
      "outputs": [
        {
          "output_type": "stream",
          "name": "stdout",
          "text": [
            "              precision    recall  f1-score   support\n",
            "\n",
            "           0       0.77      0.70      0.73       125\n",
            "           1       0.78      0.76      0.77       115\n",
            "           2       0.83      0.91      0.86       204\n",
            "           3       0.71      0.65      0.68       148\n",
            "           4       0.84      0.88      0.86       185\n",
            "\n",
            "    accuracy                           0.79       777\n",
            "   macro avg       0.78      0.78      0.78       777\n",
            "weighted avg       0.79      0.79      0.79       777\n",
            "\n"
          ]
        }
      ]
    }
  ]
}